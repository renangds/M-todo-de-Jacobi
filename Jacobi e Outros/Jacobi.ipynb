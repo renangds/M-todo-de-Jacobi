{
 "cells": [
  {
   "cell_type": "markdown",
   "metadata": {},
   "source": [
    "## Alunos:\n",
    "## Matrícula:\n"
   ]
  },
  {
   "cell_type": "code",
   "execution_count": 59,
   "metadata": {},
   "outputs": [],
   "source": [
    "import numpy as np\n",
    "import scipy\n",
    "import math"
   ]
  },
  {
   "cell_type": "markdown",
   "metadata": {},
   "source": [
    "# Método Iterativo de Jacobi:\n",
    "\n",
    "## $$ x^{(1)} = Aproximação inicial $$\n",
    "\n",
    "## $$x_{i}^{(k+1)} = \\frac{(y_{i} - \\Sigma_{j=1}^{n} a_{i,j}x_{j}^{(k)})}{a_{ii}}$$\n"
   ]
  },
  {
   "cell_type": "code",
   "execution_count": 60,
   "metadata": {},
   "outputs": [],
   "source": [
    "#Matriz A, Matriz b dos termos independentes e N o número de iterações e o erro\n",
    "def jacobi(A, b, N, chute, erro = 0.00000001):\n",
    "    \n",
    "    x = np.diag(A) #recebe um vetor contendo a diagonal principal\n",
    "    A = A - np.diagflat(x) #Zera a diagonal principal de A\n",
    "    \n",
    "    #Para dividir todos os valores da matriz A pelos termos independentes\n",
    "    for i in range(x.size):\n",
    "        A[i] = A[i]/x[i]\n",
    "        b[i] = b[i]/x[i]\n",
    "\n",
    "    x = np.copy(chute)\n",
    "    swap = np.zeros(x.size)\n",
    "    \n",
    "    A = A*-1\n",
    "    \n",
    "    for stop in range(N):\n",
    "        for i in range(x.size):\n",
    "            swap[i] = np.sum((A[i]*x))+(b[i])\n",
    "        #Cálculo da tolerância ou erro\n",
    "        print(f\"Iteração {stop}: {swap}\")\n",
    "        if((np.linalg.norm(swap) - np.linalg.norm(x)) < erro): return swap\n",
    "        x = np.copy(swap)\n",
    "\n",
    "    return x"
   ]
  },
  {
   "cell_type": "code",
   "execution_count": 61,
   "metadata": {},
   "outputs": [],
   "source": [
    "mat = np.array([[10.0,2.0,1.0],[1.0,5.0,1.0],[2.0,3.0,10.0]])\n",
    "ind = np.array([7.0,-8.0,6.0])\n",
    "chute1 = np.zeros(3)\n",
    "\n",
    "mat2 = np.array([[-3.0,1.0,1.0],[2.0,5.0,1.0],[2.0,3.0,7.0]])\n",
    "ind2 = np.array([2.0,5.0,-17.0])\n",
    "chute2 = [1.0, 1.0, -1.0]"
   ]
  },
  {
   "cell_type": "code",
   "execution_count": 62,
   "metadata": {},
   "outputs": [
    {
     "name": "stdout",
     "output_type": "stream",
     "text": [
      "Iteração 0: [ 0.7 -1.6  0.6]\n",
      "Iteração 1: [ 0.96 -1.86  0.94]\n",
      "Iteração 2: [ 0.978 -1.98   0.966]\n"
     ]
    },
    {
     "data": {
      "text/plain": [
       "array([ 0.978, -1.98 ,  0.966])"
      ]
     },
     "execution_count": 62,
     "metadata": {},
     "output_type": "execute_result"
    }
   ],
   "source": [
    "jacobi(mat, ind, 3, chute1)"
   ]
  },
  {
   "cell_type": "code",
   "execution_count": 63,
   "metadata": {},
   "outputs": [
    {
     "name": "stdout",
     "output_type": "stream",
     "text": [
      "Iteração 0: [-0.66666667  0.8        -3.14285714]\n",
      "Iteração 1: [-1.44761905  1.8952381  -2.58095238]\n",
      "Iteração 2: [-0.8952381   2.0952381  -2.82721088]\n",
      "Iteração 3: [-0.9106576   1.92353741 -3.0707483 ]\n"
     ]
    },
    {
     "data": {
      "text/plain": [
       "array([-0.9106576 ,  1.92353741, -3.0707483 ])"
      ]
     },
     "execution_count": 63,
     "metadata": {},
     "output_type": "execute_result"
    }
   ],
   "source": [
    "jacobi(mat2, ind2, 4, chute2)"
   ]
  },
  {
   "cell_type": "markdown",
   "metadata": {},
   "source": [
    "# Produto Interno entre dois vetores:\n",
    "\n",
    "## $$< u  , v > = a.a' + b.b'$$"
   ]
  },
  {
   "cell_type": "code",
   "execution_count": 43,
   "metadata": {},
   "outputs": [],
   "source": [
    "def produto_interno(u, v): #Produto interno entre dois vetores <u,v>\n",
    "    resultado = 0\n",
    "    \n",
    "    if(u.size != v.size):\n",
    "        print(\"Vetores com tamanhos diferentes\")\n",
    "        return\n",
    "    \n",
    "    for i in range(u.size):\n",
    "           resultado += u[i]*v[i]\n",
    "    #return math.cos(resultado)\n",
    "    return resultado"
   ]
  },
  {
   "cell_type": "code",
   "execution_count": 44,
   "metadata": {},
   "outputs": [],
   "source": [
    "v = np.array([1,-1,1])\n",
    "u = np.array([1,1,0])"
   ]
  },
  {
   "cell_type": "code",
   "execution_count": 47,
   "metadata": {},
   "outputs": [
    {
     "data": {
      "text/plain": [
       "0"
      ]
     },
     "execution_count": 47,
     "metadata": {},
     "output_type": "execute_result"
    }
   ],
   "source": [
    "produto_interno(u, v)"
   ]
  },
  {
   "cell_type": "markdown",
   "metadata": {},
   "source": [
    "# Ângulo Entre Vetores:\n",
    "\n",
    "##  $$cos (\\theta) = \\frac{< a  , b >}{\\mid a \\mid \\mid b \\mid}$$"
   ]
  },
  {
   "cell_type": "code",
   "execution_count": 56,
   "metadata": {},
   "outputs": [],
   "source": [
    "def angulo_vetores(u, v):\n",
    "    if(u.size != v.size):\n",
    "        print(\"Vetores com tamanhos diferentes\")\n",
    "        return\n",
    "    \n",
    "    prodint = produto_interno(u, v)\n",
    "    n1 = np.linalg.norm(u)\n",
    "    n2 = np.linalg.norm(v)\n",
    "    total = prodint/(n1*n2)\n",
    "    total = math.cos(total)\n",
    "    \n",
    "    return total"
   ]
  },
  {
   "cell_type": "code",
   "execution_count": 57,
   "metadata": {},
   "outputs": [
    {
     "data": {
      "text/plain": [
       "1.0"
      ]
     },
     "execution_count": 57,
     "metadata": {},
     "output_type": "execute_result"
    }
   ],
   "source": [
    "angulo_vetores(u, v)"
   ]
  },
  {
   "cell_type": "code",
   "execution_count": null,
   "metadata": {},
   "outputs": [],
   "source": []
  }
 ],
 "metadata": {
  "kernelspec": {
   "display_name": "Python 3",
   "language": "python",
   "name": "python3"
  },
  "language_info": {
   "codemirror_mode": {
    "name": "ipython",
    "version": 3
   },
   "file_extension": ".py",
   "mimetype": "text/x-python",
   "name": "python",
   "nbconvert_exporter": "python",
   "pygments_lexer": "ipython3",
   "version": "3.6.4"
  }
 },
 "nbformat": 4,
 "nbformat_minor": 2
}
